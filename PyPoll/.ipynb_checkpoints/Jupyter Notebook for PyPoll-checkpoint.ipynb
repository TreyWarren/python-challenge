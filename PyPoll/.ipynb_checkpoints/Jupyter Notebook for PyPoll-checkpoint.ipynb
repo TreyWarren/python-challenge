{
 "cells": [
  {
   "cell_type": "code",
   "execution_count": 1,
   "metadata": {},
   "outputs": [
    {
     "name": "stdout",
     "output_type": "stream",
     "text": [
      "Voter ID,County,Candidate\r\n",
      "12864552,Marsh,Khan\r\n",
      "17444633,Marsh,Correy\r\n",
      "19330107,Marsh,Khan\r\n",
      "19865775,Queen,Khan\r\n"
     ]
    }
   ],
   "source": [
    "import os\n",
    "import csv\n",
    "\n",
    "!head -n 5 ../../../CU-NYC-DATA-PT-02-2020-U-C/03-Python/homework/assignment/PyPoll/Resources/election_data.csv"
   ]
  },
  {
   "cell_type": "code",
   "execution_count": 2,
   "metadata": {
    "scrolled": false
   },
   "outputs": [
    {
     "name": "stdout",
     "output_type": "stream",
     "text": [
      "Election Results\n",
      "-------------------------\n",
      "Total Votes: 3521001\n",
      "-------------------------\n",
      "Khan: %63.000 (2218231)\n",
      "Correy: %20.000 (704200)\n",
      "Li: %14.000 (492940)\n",
      "O'Tooley: %3.000 (105630)\n",
      "-------------------------\n",
      "Winner: Khan\n",
      "-------------------------\n"
     ]
    }
   ],
   "source": [
    "import os\n",
    "import csv\n",
    "from collections import Counter\n",
    "\n",
    "csvpath = os.path.join('..','..','..','CU-NYC-DATA-PT-02-2020-U-C','03-Python','homework','assignment','PyPoll','Resources','election_data.csv')\n",
    "\n",
    "with open(csvpath) as csvfile:\n",
    "\n",
    "    csvreader = csv.reader(csvfile, delimiter=',')\n",
    "\n",
    "    # Skip header\n",
    "    next(csvreader)\n",
    "    \n",
    "    # Definitions\n",
    "    candidates = []\n",
    "    tallies = []\n",
    "    candidates_list = []\n",
    "    \n",
    "    # Read each row of data after the header\n",
    "    for row in csvreader:\n",
    "        # Create a list of only the candidate responses as to make things easier to work with\n",
    "        candidates_list.append(str(row[2]))\n",
    "\n",
    "# This works similar to unique() but it orders the keys by count\n",
    "candidates = list(Counter(candidates_list).keys())\n",
    "# This orders the respective keys' values making it easy to match the array indexes\n",
    "tallies = list(Counter(candidates_list).values())\n",
    "# The total number of votes cast\n",
    "total_votes = len(candidates_list)\n",
    "\n",
    "# A complete list of candidates who received votes\n",
    "candidate_1 = candidates[0]\n",
    "candidate_2 = candidates[1]\n",
    "candidate_3 = candidates[2]\n",
    "candidate_4 = candidates[3]\n",
    "\n",
    "# The total number of votes each candidate won\n",
    "tally_1 = tallies[0]\n",
    "tally_2 = tallies[1]\n",
    "tally_3 = tallies[2]\n",
    "tally_4 = tallies[3]\n",
    "\n",
    "# The percentage of votes each candidate won\n",
    "percent_1 = 100*tallies[0]/total_votes\n",
    "percent_2 = 100*tallies[1]/total_votes\n",
    "percent_3 = 100*tallies[2]/total_votes\n",
    "percent_4 = 100*tallies[3]/total_votes         \n",
    "\n",
    "# Output:\n",
    "print('Election Results')\n",
    "print('-------------------------')\n",
    "print(f'Total Votes: {len(candidates_list)}')\n",
    "print('-------------------------')\n",
    "print(f'{candidate_1}: %{percent_1:.3f} ({tally_1})')\n",
    "print(f'{candidate_2}: %{percent_2:.3f} ({tally_2})')\n",
    "print(f'{candidate_3}: %{percent_3:.3f} ({tally_3})')\n",
    "print(f'{candidate_4}: %{percent_4:.3f} ({tally_4})')\n",
    "print('-------------------------')\n",
    "print(f'Winner: {candidate_1}')\n",
    "print('-------------------------')"
   ]
  },
  {
   "cell_type": "code",
   "execution_count": 9,
   "metadata": {},
   "outputs": [],
   "source": [
    "# save the output file path\n",
    "output_path = os.path.join('PyPoll.txt')\n",
    "\n",
    "# open the output file, create a header row, and then write the zipped object to the csv\n",
    "with open(output_path, 'w') as output:\n",
    "    writer = csv.writer(output)\n",
    "    \n",
    "    writer.writerow(['Election Results'])\n",
    "    writer.writerow(['--------------------------------'])\n",
    "    writer.writerow(['Total Votes:' + '\\t' + str(len(candidates_list))])\n",
    "    writer.writerow(['--------------------------------'])\n",
    "    writer.writerow([str(candidate_1) + ':' + '\\t\\t' + '%' + str(round(percent_1,3)) + '\\t' + str(tally_1)])\n",
    "    writer.writerow([str(candidate_2) + ':' + '\\t\\t' + '%' + str(round(percent_2,3)) + '\\t' + str(tally_2)])\n",
    "    writer.writerow([str(candidate_3) + ':' + '\\t\\t' + '%' + str(round(percent_3,3)) + '\\t' + str(tally_3)])\n",
    "    writer.writerow([str(candidate_4) + ':' + '\\t' + '%' + str(round(percent_4,3)) + '\\t' + str(tally_4)])\n",
    "    writer.writerow(['--------------------------------'])\n",
    "    writer.writerow(['Winner:' + '\\t' + str(candidate_1)])\n",
    "    writer.writerow(['--------------------------------'])\n",
    "    \n",
    "    output.close()"
   ]
  },
  {
   "cell_type": "code",
   "execution_count": 54,
   "metadata": {},
   "outputs": [
    {
     "name": "stdout",
     "output_type": "stream",
     "text": [
      "3521001\n",
      "['Khan', 'Correy', 'Li', \"O'Tooley\"]\n",
      "['Marsh', 'Queen', 'Bamoo', 'Trandee', 'Raffah']\n"
     ]
    }
   ],
   "source": [
    "csvpath = os.path.join('..','..','..','CU-NYC-DATA-PT-02-2020-U-C','03-Python','homework','assignment','PyPoll','Resources','election_data.csv')\n",
    "\n",
    "with open(csvpath) as csvfile:\n",
    "\n",
    "    csvreader = csv.reader(csvfile, delimiter=',')\n",
    "\n",
    "    # Skip header\n",
    "    next(csvreader)\n",
    "    \n",
    "    # Initial values\n",
    "    total_votes = 0\n",
    "    candidates = []\n",
    "    counties = []\n",
    "    tallies = []\n",
    "    \n",
    "    # Read each row of data after the header\n",
    "    for row in csvreader:\n",
    "        total_votes += 1\n",
    "        if str(row[2]) not in candidates:\n",
    "            candidates.append(str(row[2]))\n",
    "        if str(row[1]) not in counties:\n",
    "            counties.append(str(row[1]))\n",
    "\n",
    "\n",
    "#The total number of votes cast\n",
    "print(total_votes)\n",
    "#A complete list of candidates who received votes\n",
    "print(candidates)\n",
    "print(counties)\n",
    "#The total number of votes each candidate won\n",
    "#The percentage of votes each candidate won\n",
    "#The winner of the election based on popular vote."
   ]
  },
  {
   "cell_type": "code",
   "execution_count": 65,
   "metadata": {},
   "outputs": [
    {
     "name": "stdout",
     "output_type": "stream",
     "text": [
      "3521001\n",
      "0\n"
     ]
    }
   ],
   "source": [
    "csvpath = os.path.join('..','..','..','CU-NYC-DATA-PT-02-2020-U-C','03-Python','homework','assignment','PyPoll','Resources','election_data.csv')\n",
    "\n",
    "with open(csvpath) as csvfile:\n",
    "\n",
    "    csvreader = csv.reader(csvfile, delimiter=',')\n",
    "\n",
    "    # Skip header\n",
    "    next(csvreader)\n",
    "    \n",
    "    # Initial values\n",
    "    total_1 = 0\n",
    "    total_2 = 0\n",
    "    \n",
    "    # Read each row of data after the header\n",
    "    for row in csvreader:\n",
    "        total_1 += 1\n",
    "        #break\n",
    "    for row in csvreader:\n",
    "        total_2 += 2\n",
    "\n",
    "\n",
    "print(total_1)\n",
    "print(total_2)"
   ]
  },
  {
   "cell_type": "code",
   "execution_count": null,
   "metadata": {},
   "outputs": [],
   "source": []
  }
 ],
 "metadata": {
  "kernelspec": {
   "display_name": "Python 3",
   "language": "python",
   "name": "python3"
  },
  "language_info": {
   "codemirror_mode": {
    "name": "ipython",
    "version": 3
   },
   "file_extension": ".py",
   "mimetype": "text/x-python",
   "name": "python",
   "nbconvert_exporter": "python",
   "pygments_lexer": "ipython3",
   "version": "3.7.4"
  }
 },
 "nbformat": 4,
 "nbformat_minor": 2
}
