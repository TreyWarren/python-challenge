{
 "cells": [
  {
   "cell_type": "code",
   "execution_count": 2,
   "metadata": {
    "scrolled": true
   },
   "outputs": [
    {
     "name": "stdout",
     "output_type": "stream",
     "text": [
      "Date,Profit/Losses\n",
      "Jan-2010,867884\n",
      "Feb-2017,671099\n"
     ]
    }
   ],
   "source": [
    "!head -n 2 ../../../../Desktop/CU-NYC-DATA-PT-02-2020-U-C/03-Python/homework/assignment/PyBank/Resources/budget_data.csv\n",
    "!tail -n 1 ../../../../Desktop/CU-NYC-DATA-PT-02-2020-U-C/03-Python/homework/assignment/PyBank/Resources/budget_data.csv"
   ]
  },
  {
   "cell_type": "code",
   "execution_count": 3,
   "metadata": {},
   "outputs": [
    {
     "name": "stdout",
     "output_type": "stream",
     "text": [
      "Financial Analysis\n",
      "---------------------------------------------------\n",
      "Total Months: 86\n",
      "Total: $38,382,578\n",
      "Average Change: $-2,315.12\n",
      "Greatest Increase in Profits: Feb-2012 ($1,926,159)\n",
      "Greatest Decrease in Profits: Sep-2013 ($-2,196,167)\n"
     ]
    }
   ],
   "source": [
    "import csv\n",
    "import os\n",
    "\n",
    "#csvpath = '../../../../Desktop/CU-NYC-DATA-PT-02-2020-U-C/03-Python/homework/assignment/PyBank/Resources/budget_data.csv'\n",
    "csvpath = os.path.join('..','..','..','..','Desktop','CU-NYC-DATA-PT-02-2020-U-C','03-Python','homework','assignment','PyBank','Resources','budget_data.csv')\n",
    "\n",
    "with open(csvpath) as csvfile:\n",
    "\n",
    "    csvreader = csv.reader(csvfile, delimiter=',')\n",
    "\n",
    "    # Skip the header \n",
    "    next(csvreader)\n",
    "    \n",
    "    # Definitions \n",
    "    total_months = 0\n",
    "    total_profit = 0\n",
    "    prev_profit = 0\n",
    "    changes_sum = 0\n",
    "    max_change = 0\n",
    "    min_change = 0\n",
    "    max_change_month = \"date\"\n",
    "    min_change_month = \"date\"\n",
    "    \n",
    "    # Begin looping through the rows of data\n",
    "    for row in csvreader:\n",
    "        if total_months == 0:\n",
    "            # each iteration we add 1 to the total number of months\n",
    "            total_months += 1\n",
    "            # each itteration we add the profit/loss to the total\n",
    "            total_profit += int(row[1])\n",
    "            #set the variable to be used as previous month's profit in the net loop\n",
    "            prev_profit = int(row[1])\n",
    "        else:\n",
    "            # each iteration we add 1 to the total number of months\n",
    "            total_months += 1\n",
    "            # each itteration we add the profit/loss to the total\n",
    "            total_profit += int(row[1])\n",
    "            # define the change to be this month's profit minus the prior month's\n",
    "            change = (int(row[1])-prev_profit)\n",
    "            # add up each change in profit so we can find the average\n",
    "            changes_sum += change\n",
    "            #set the variable to be used as previous month's profit in the net loop\n",
    "            prev_profit = int(row[1])\n",
    "        \n",
    "            # to find min/max change, redefine the min/max variable if the current loop's change is less/greater\n",
    "            if change > max_change:\n",
    "                max_change = change\n",
    "                max_change_month = str(row[0])\n",
    "            if change < min_change:\n",
    "                min_change = change\n",
    "                min_change_month = str(row[0])    \n",
    "    \n",
    "    # Output:\n",
    "    print('Financial Analysis')\n",
    "    print('---------------------------------------------------')\n",
    "    \n",
    "    #The total number of months included in the dataset\n",
    "    print(f'Total Months: {total_months}')\n",
    "    \n",
    "    #The net total amount of \"Profit/Losses\" over the entire period\n",
    "    print(f'Total: ${total_profit:,d}')\n",
    "    \n",
    "    #The average of the changes in \"Profit/Losses\" over the entire period\n",
    "    average_change = changes_sum / (total_months-1)\n",
    "    print(f'Average Change: ${average_change:,.2f}') \n",
    "    \n",
    "    #The greatest increase in profits (date and amount) over the entire period\n",
    "    print(f'Greatest Increase in Profits: {max_change_month} (${max_change:,})')\n",
    "    \n",
    "    #The greatest decrease in losses (date and amount) over the entire period\n",
    "    print(f'Greatest Decrease in Profits: {min_change_month} (${min_change:,})')\n",
    "\n",
    "    \n",
    "    \n",
    "### ANSWER CHECK:\n",
    "\n",
    "#Financial Analysis\n",
    "#----------------------------\n",
    "#Total Months: 86\n",
    "#Total: $38382578\n",
    "#Average  Change: $-2315.12\n",
    "#Greatest Increase in Profits: Feb-2012 ($1926159)\n",
    "#Greatest Decrease in Profits: Sep-2013 ($-2196167)\n"
   ]
  },
  {
   "cell_type": "code",
   "execution_count": 9,
   "metadata": {},
   "outputs": [],
   "source": [
    "# save the output file path\n",
    "output_path = os.path.join('PyBank.txt')\n",
    "\n",
    "# open the output file, create a header row, and then write the zipped object to the csv\n",
    "with open(output_path, 'w') as output:\n",
    "    writer = csv.writer(output)\n",
    "    \n",
    "    writer.writerow(['Financial Analysis'])\n",
    "    writer.writerow(['---------------------------------------------------------'])\n",
    "    writer.writerow(['Total Months:' + '\\t\\t\\t' + str(total_months)])\n",
    "    writer.writerow(['Total:' + '\\t\\t\\t\\t' + str(total_profit)])\n",
    "    writer.writerow(['Average Change:' + '\\t\\t\\t' + str(round(average_change, 2))])\n",
    "    writer.writerow(['Greatest Increase in Profits:' + '\\t' + str(max_change_month) + '\\t' + str(max_change)])\n",
    "    writer.writerow(['Greatest Decrease in Profits:' + '\\t' + str(min_change_month) + '\\t' + str(min_change)])\n",
    "    \n",
    "    output.close()"
   ]
  },
  {
   "cell_type": "code",
   "execution_count": null,
   "metadata": {},
   "outputs": [],
   "source": []
  }
 ],
 "metadata": {
  "kernelspec": {
   "display_name": "Python 3",
   "language": "python",
   "name": "python3"
  },
  "language_info": {
   "codemirror_mode": {
    "name": "ipython",
    "version": 3
   },
   "file_extension": ".py",
   "mimetype": "text/x-python",
   "name": "python",
   "nbconvert_exporter": "python",
   "pygments_lexer": "ipython3",
   "version": "3.7.4"
  }
 },
 "nbformat": 4,
 "nbformat_minor": 2
}
